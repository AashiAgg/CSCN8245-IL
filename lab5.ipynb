{
 "cells": [
  {
   "attachments": {},
   "cell_type": "markdown",
   "metadata": {},
   "source": [
    "# 1- Data Tidying:\n",
    "## **Part I**\n",
    "### **Tuberculosis Dataset** \n",
    "This dataset outlines the number of tuberculosis patients in different countries in the year 2000.<br>\n",
    "Dataset name: tb-raw.csv <br>\n",
    "A few notes on the raw data set:<br>\n",
    "\n",
    "- The columns starting with \"m\" or \"f\" contain multiple variables:  \n",
    "    - Sex (\"m\" or \"f\")\n",
    "    - Age Group (\"0-14\",\"15-24\", \"25-34\", \"45-54\", \"55-64\", \"65\", \"unknown\")\n",
    "- Mixture of 0s and missing values(\"NaN\"). This is due to the data collection process and the distinction is important for this dataset.\n"
   ]
  },
  {
   "attachments": {},
   "cell_type": "markdown",
   "metadata": {},
   "source": [
    "#### Task: Apply Data Tidying techniques to get a tidier dataset with more representive columns, please do it step-by-step and explain each step you are doing."
   ]
  },
  {
   "cell_type": "markdown",
   "metadata": {},
   "source": [
    "<h3>\n",
    "1. Dataset Loaded <br>\n",
    "</h3>"
   ]
  },
  {
   "cell_type": "code",
   "execution_count": 1,
   "metadata": {},
   "outputs": [],
   "source": [
    "import pandas as pd\n",
    "\n",
    "data = pd.read_csv('tb-raw.csv')\n"
   ]
  },
  {
   "cell_type": "markdown",
   "metadata": {},
   "source": [
    "<h3>\n",
    "2. Data expansion by melting it. <br>\n",
    "    - id_varse --> Columns that's data is unchanged <br>\n",
    "    - creating new columns - age_sex and counting its values. <br>\n",
    " <br>\n",
    "</h3>"
   ]
  },
  {
   "cell_type": "code",
   "execution_count": 2,
   "metadata": {},
   "outputs": [],
   "source": [
    "data = data.melt(id_vars=['country', 'year'], var_name='age_sex', value_name='count')\n"
   ]
  },
  {
   "cell_type": "markdown",
   "metadata": {},
   "source": [
    "<h3>\n",
    "3. Analysing the pattern here and extracting data accordingly <br>\n",
    "    - Creating sex and age_group column <br>\n",
    "    - extracting the pattern - <br>\n",
    "        m/f for if its male or female. <br>\n",
    "        2 to 4 digit number for the age group.\n",
    "         \n",
    " <br>\n",
    "</h3>"
   ]
  },
  {
   "cell_type": "code",
   "execution_count": 3,
   "metadata": {},
   "outputs": [],
   "source": [
    "# Step 3: Extract relevant information\n",
    "data[['sex', 'age_group']] = data['age_sex'].str.extract(r'([mf])(\\d{2,4})')\n",
    "\n"
   ]
  },
  {
   "cell_type": "markdown",
   "metadata": {},
   "source": [
    "<h3>\n",
    "4. Filling missing values\n",
    "         \n",
    " <br>\n",
    "</h3>"
   ]
  },
  {
   "cell_type": "code",
   "execution_count": 4,
   "metadata": {},
   "outputs": [],
   "source": [
    "\n",
    "data['count'] = data['count'].fillna(0)\n",
    "\n"
   ]
  },
  {
   "cell_type": "markdown",
   "metadata": {},
   "source": [
    "<h3>\n",
    "5. Organizing columns\n",
    "         \n",
    " <br>\n",
    "</h3>"
   ]
  },
  {
   "cell_type": "code",
   "execution_count": 5,
   "metadata": {},
   "outputs": [],
   "source": [
    "\n",
    "tidy_data = data[['country', 'year', 'sex', 'age_group', 'count']]"
   ]
  },
  {
   "cell_type": "markdown",
   "metadata": {},
   "source": [
    "<h3>\n",
    "6. Converting data to csv file.\n",
    "         \n",
    " <br>\n",
    "</h3>"
   ]
  },
  {
   "cell_type": "code",
   "execution_count": 6,
   "metadata": {},
   "outputs": [],
   "source": [
    "tidy_data.to_csv('tidied_dataset.csv', index=False)"
   ]
  },
  {
   "attachments": {},
   "cell_type": "markdown",
   "metadata": {},
   "source": [
    "## **Part II**\n",
    "\n",
    "Observe the following dataset: ./CSVs/salesMinimized.csv \n",
    "Please observe columns thoroughly as you need to apply some common-sense to represent the columns correctly.\n",
    "\n",
    "#### Task: Apply Data Tidying techniques to get a tidier dataset with more representive columns, please do it step-by-step and explain each step you are doing.\n"
   ]
  },
  {
   "cell_type": "code",
   "execution_count": 7,
   "metadata": {},
   "outputs": [],
   "source": [
    "df = pd.read_csv('salesMinimized.csv')\n",
    "\n",
    "\n"
   ]
  },
  {
   "cell_type": "markdown",
   "metadata": {},
   "source": [
    "<h3>\n",
    "Filling empty spaces with 0 and dropping all the columns that are empty\n",
    "</h3>"
   ]
  },
  {
   "cell_type": "code",
   "execution_count": 8,
   "metadata": {},
   "outputs": [
    {
     "name": "stdout",
     "output_type": "stream",
     "text": [
      "   Unnamed: 0                             id        item_id    dept_id   \n",
      "0           0  HOBBIES_1_001_CA_1_validation  HOBBIES_1_001  HOBBIES_1  \\\n",
      "1           1  HOBBIES_1_002_CA_1_validation  HOBBIES_1_002  HOBBIES_1   \n",
      "2           2  HOBBIES_1_003_CA_1_validation  HOBBIES_1_003  HOBBIES_1   \n",
      "3           3  HOBBIES_1_004_CA_1_validation  HOBBIES_1_004  HOBBIES_1   \n",
      "4           4  HOBBIES_1_005_CA_1_validation  HOBBIES_1_005  HOBBIES_1   \n",
      "\n",
      "    cat_id store_id state_id  d_1  d_2  d_3  ...  d_61  d_62  d_63  d_64   \n",
      "0  HOBBIES     CA_1       CA    0    0    0  ...     0     0     0     0  \\\n",
      "1  HOBBIES     CA_1       CA    0    0    0  ...     0     0     0     0   \n",
      "2  HOBBIES     CA_1       CA    0    0    0  ...     0     0     0     0   \n",
      "3  HOBBIES     CA_1       CA    0    0    0  ...     1     0     0     0   \n",
      "4  HOBBIES     CA_1       CA    0    0    0  ...     0     0     0     0   \n",
      "\n",
      "   d_65  d_66  d_67  d_68  d_69  d_70  \n",
      "0     0     0     0     0     0     0  \n",
      "1     0     0     0     0     0     0  \n",
      "2     0     0     0     0     0     0  \n",
      "3     0     0     1     0     0     1  \n",
      "4     0     0     0     0     0     0  \n",
      "\n",
      "[5 rows x 77 columns]\n"
     ]
    }
   ],
   "source": [
    "df.dropna(axis=1, how=\"all\",inplace=True)\n",
    "df.fillna(-1, inplace=True)\n",
    "print(df.head())"
   ]
  },
  {
   "cell_type": "markdown",
   "metadata": {},
   "source": [
    "<h3>\n",
    "Renaming to organize\n",
    "</h3>"
   ]
  },
  {
   "cell_type": "code",
   "execution_count": 9,
   "metadata": {},
   "outputs": [],
   "source": [
    "df.rename(columns={\n",
    "    'id': 'Sales_ID',\n",
    "    'item_id': 'Item_ID',\n",
    "    'dept_id': 'Department_ID',\n",
    "    'cat_id': 'Category_ID',\n",
    "    'store_id': 'Store_ID',\n",
    "    'state_id': 'State_ID',\n",
    "    # Add more renames as necessary\n",
    "}, inplace=True)\n",
    "\n",
    "df.to_csv('clean_salesMinimized.csv', index=False)"
   ]
  },
  {
   "cell_type": "markdown",
   "metadata": {},
   "source": [
    "## PART III\n",
    "Using Boston House pricing dataset, apply outlier detection techniques discussed in class to detect outliers. Use different techniques and comment your code. <br>\n",
    "You need to check how to load the dataset correctly! <br>\n",
    "1. You should include some Visualization techniques\n",
    "2. You should include some statistical approaches\n",
    "3. You should analyze your attributes using Univariant and multivariant outlier detection techniques.\n",
    "4. Choose one or more of your outlier detection techniques and remove outliers"
   ]
  },
  {
   "cell_type": "code",
   "execution_count": 10,
   "metadata": {},
   "outputs": [],
   "source": [
    "# Importing\n",
    "data_url = \"http://lib.stat.cmu.edu/datasets/boston\""
   ]
  },
  {
   "cell_type": "markdown",
   "metadata": {},
   "source": [
    "<h3> \n",
    "Converting boston dataset to CSV <br>\n",
    "- Reading the file and naming the columns <br>\n",
    "- Converting data to 1D <br>\n",
    "- Removing NaN values <br>\n",
    "- Converting data to 2D <br>\n",
    "</h3>"
   ]
  },
  {
   "cell_type": "code",
   "execution_count": 11,
   "metadata": {},
   "outputs": [],
   "source": [
    "import pandas as pd\n",
    "import numpy as np\n",
    "\n",
    "df = pd.read_csv(\n",
    "    filepath_or_buffer=\"http://lib.stat.cmu.edu/datasets/boston\",\n",
    "    delim_whitespace=True,\n",
    "    skiprows=21,\n",
    "    header=None,\n",
    ")\n",
    "\n",
    "columns = [\n",
    "    'CRIM',\n",
    "    'ZN',\n",
    "    'INDUS',\n",
    "    'CHAS',\n",
    "    'NOX',\n",
    "    'RM',\n",
    "    'AGE',\n",
    "    'DIS',\n",
    "    'RAD',\n",
    "    'TAX',\n",
    "    'PTRATIO',\n",
    "    'B',\n",
    "    'LSTAT',\n",
    "    'MEDV',\n",
    "]\n",
    "\n",
    "\n",
    "numm_value = df.values.flatten()\n",
    "all_values = numm_value[~np.isnan(numm_value)]\n",
    "\n",
    "#Reshape the values to have 14 columns and make a new df out of them\n",
    "df = pd.DataFrame(\n",
    "    data = all_values.reshape(-1, len(columns)),\n",
    "    columns = columns,\n",
    ")\n",
    "\n",
    "df.to_csv('boston.csv', index=False)\n",
    "\n",
    "\n"
   ]
  },
  {
   "cell_type": "markdown",
   "metadata": {},
   "source": [
    "<h1>\n",
    "Using histogram to Visualize\n",
    "</h1>"
   ]
  },
  {
   "cell_type": "code",
   "execution_count": 12,
   "metadata": {},
   "outputs": [
    {
     "data": {
      "image/png": "[encoded data removed]",
      "text/plain": [
       "<Figure size 640x480 with 1 Axes>"
      ]
     },
     "metadata": {},
     "output_type": "display_data"
    }
   ],
   "source": [
    "import matplotlib.pyplot as plt\n",
    "\n",
    "plt.hist(df['RM'], bins=20)\n",
    "plt.xlabel('average number of rooms per dwelling')\n",
    "plt.ylabel('Frequency')\n",
    "plt.title('Histogram of Rooms')\n",
    "plt.show()"
   ]
  },
  {
   "cell_type": "markdown",
   "metadata": {},
   "source": [
    "<h1>\n",
    "Statistical Approach \n",
    "</h1>"
   ]
  },
  {
   "cell_type": "code",
   "execution_count": 13,
   "metadata": {},
   "outputs": [
    {
     "name": "stdout",
     "output_type": "stream",
     "text": [
      "Basic Statistics:\n",
      "             CRIM          ZN       INDUS        CHAS         NOX          RM   \n",
      "count  506.000000  506.000000  506.000000  506.000000  506.000000  506.000000  \\\n",
      "mean     3.613524   11.363636   11.136779    0.069170    0.554695    6.284634   \n",
      "std      8.601545   23.322453    6.860353    0.253994    0.115878    0.702617   \n",
      "min      0.006320    0.000000    0.460000    0.000000    0.385000    3.561000   \n",
      "25%      0.082045    0.000000    5.190000    0.000000    0.449000    5.885500   \n",
      "50%      0.256510    0.000000    9.690000    0.000000    0.538000    6.208500   \n",
      "75%      3.677083   12.500000   18.100000    0.000000    0.624000    6.623500   \n",
      "max     88.976200  100.000000   27.740000    1.000000    0.871000    8.780000   \n",
      "\n",
      "              AGE         DIS         RAD         TAX     PTRATIO           B   \n",
      "count  506.000000  506.000000  506.000000  506.000000  506.000000  506.000000  \\\n",
      "mean    68.574901    3.795043    9.549407  408.237154   18.455534  356.674032   \n",
      "std     28.148861    2.105710    8.707259  168.537116    2.164946   91.294864   \n",
      "min      2.900000    1.129600    1.000000  187.000000   12.600000    0.320000   \n",
      "25%     45.025000    2.100175    4.000000  279.000000   17.400000  375.377500   \n",
      "50%     77.500000    3.207450    5.000000  330.000000   19.050000  391.440000   \n",
      "75%     94.075000    5.188425   24.000000  666.000000   20.200000  396.225000   \n",
      "max    100.000000   12.126500   24.000000  711.000000   22.000000  396.900000   \n",
      "\n",
      "            LSTAT        MEDV  \n",
      "count  506.000000  506.000000  \n",
      "mean    12.653063   22.532806  \n",
      "std      7.141062    9.197104  \n",
      "min      1.730000    5.000000  \n",
      "25%      6.950000   17.025000  \n",
      "50%     11.360000   21.200000  \n",
      "75%     16.955000   25.000000  \n",
      "max     37.970000   50.000000  \n",
      "\n",
      " Correlation Coefficients:\n",
      "             CRIM        ZN     INDUS      CHAS       NOX        RM       AGE   \n",
      "CRIM     1.000000 -0.200469  0.406583 -0.055892  0.420972 -0.219247  0.352734  \\\n",
      "ZN      -0.200469  1.000000 -0.533828 -0.042697 -0.516604  0.311991 -0.569537   \n",
      "INDUS    0.406583 -0.533828  1.000000  0.062938  0.763651 -0.391676  0.644779   \n",
      "CHAS    -0.055892 -0.042697  0.062938  1.000000  0.091203  0.091251  0.086518   \n",
      "NOX      0.420972 -0.516604  0.763651  0.091203  1.000000 -0.302188  0.731470   \n",
      "RM      -0.219247  0.311991 -0.391676  0.091251 -0.302188  1.000000 -0.240265   \n",
      "AGE      0.352734 -0.569537  0.644779  0.086518  0.731470 -0.240265  1.000000   \n",
      "DIS     -0.379670  0.664408 -0.708027 -0.099176 -0.769230  0.205246 -0.747881   \n",
      "RAD      0.625505 -0.311948  0.595129 -0.007368  0.611441 -0.209847  0.456022   \n",
      "TAX      0.582764 -0.314563  0.720760 -0.035587  0.668023 -0.292048  0.506456   \n",
      "PTRATIO  0.289946 -0.391679  0.383248 -0.121515  0.188933 -0.355501  0.261515   \n",
      "B       -0.385064  0.175520 -0.356977  0.048788 -0.380051  0.128069 -0.273534   \n",
      "LSTAT    0.455621 -0.412995  0.603800 -0.053929  0.590879 -0.613808  0.602339   \n",
      "MEDV    -0.388305  0.360445 -0.483725  0.175260 -0.427321  0.695360 -0.376955   \n",
      "\n",
      "              DIS       RAD       TAX   PTRATIO         B     LSTAT      MEDV  \n",
      "CRIM    -0.379670  0.625505  0.582764  0.289946 -0.385064  0.455621 -0.388305  \n",
      "ZN       0.664408 -0.311948 -0.314563 -0.391679  0.175520 -0.412995  0.360445  \n",
      "INDUS   -0.708027  0.595129  0.720760  0.383248 -0.356977  0.603800 -0.483725  \n",
      "CHAS    -0.099176 -0.007368 -0.035587 -0.121515  0.048788 -0.053929  0.175260  \n",
      "NOX     -0.769230  0.611441  0.668023  0.188933 -0.380051  0.590879 -0.427321  \n",
      "RM       0.205246 -0.209847 -0.292048 -0.355501  0.128069 -0.613808  0.695360  \n",
      "AGE     -0.747881  0.456022  0.506456  0.261515 -0.273534  0.602339 -0.376955  \n",
      "DIS      1.000000 -0.494588 -0.534432 -0.232471  0.291512 -0.496996  0.249929  \n",
      "RAD     -0.494588  1.000000  0.910228  0.464741 -0.444413  0.488676 -0.381626  \n",
      "TAX     -0.534432  0.910228  1.000000  0.460853 -0.441808  0.543993 -0.468536  \n",
      "PTRATIO -0.232471  0.464741  0.460853  1.000000 -0.177383  0.374044 -0.507787  \n",
      "B        0.291512 -0.444413 -0.441808 -0.177383  1.000000 -0.366087  0.333461  \n",
      "LSTAT   -0.496996  0.488676  0.543993  0.374044 -0.366087  1.000000 -0.737663  \n",
      "MEDV     0.249929 -0.381626 -0.468536 -0.507787  0.333461 -0.737663  1.000000  \n"
     ]
    }
   ],
   "source": [
    "import pandas as pd\n",
    "import numpy as np\n",
    "\n",
    "# Calculate basic statistics\n",
    "basic_stats = df.describe()\n",
    "\n",
    "# Calculate correlation coefficients\n",
    "correlation_matrix = df.corr()\n",
    "\n",
    "# Print the results\n",
    "print(\"Basic Statistics:\")\n",
    "print(basic_stats)\n",
    "\n",
    "print(\"\\n Correlation Coefficients:\")\n",
    "print(correlation_matrix)\n"
   ]
  },
  {
   "cell_type": "markdown",
   "metadata": {},
   "source": [
    "<h1>\n",
    "Calculating z score and removing outliers\n",
    "</h1>\n"
   ]
  },
  {
   "cell_type": "code",
   "execution_count": 14,
   "metadata": {},
   "outputs": [
    {
     "name": "stdout",
     "output_type": "stream",
     "text": [
      "z score approach outliers:  91\n",
      "whsiker approach outlier ->:  238\n"
     ]
    }
   ],
   "source": [
    "from scipy import stats\n",
    "\n",
    "# Calculate z-scores\n",
    "z_scores = stats.zscore(df)\n",
    "\n",
    "\n",
    "# Find all data points with a z-score greater than 3 or less than -3\n",
    "outliers = (z_scores > 3).any(axis=1) | (z_scores < -3).any(axis=1)\n",
    "\n",
    "\n",
    "print(\"z score approach outliers: \",sum(outliers))\n",
    "\n",
    "\n",
    "Q1 = df.quantile(0.25)\n",
    "Q3 = df.quantile(0.75)\n",
    "IQR = Q3 - Q1\n",
    "\n",
    "\n",
    "outliers = ((df < (Q1 - 1.5 * IQR)) | (df > (Q3 + 1.5 * IQR))).any(axis=1)\n",
    "\n",
    "# Print the number of outliers\n",
    "print(\"whsiker approach outlier ->: \",sum(outliers))\n",
    "\n",
    "\n",
    "#Remove outliers\n",
    "df = df[~outliers]"
   ]
  }
 ],
 "metadata": {
  "kernelspec": {
   "display_name": "Python 3",
   "language": "python",
   "name": "python3"
  },
  "language_info": {
   "codemirror_mode": {
    "name": "ipython",
    "version": 3
   },
   "file_extension": ".py",
   "mimetype": "text/x-python",
   "name": "python",
   "nbconvert_exporter": "python",
   "pygments_lexer": "ipython3",
   "version": "3.11.0"
  },
  "orig_nbformat": 4
 },
 "nbformat": 4,
 "nbformat_minor": 2
}
